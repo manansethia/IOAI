{
  "nbformat": 4,
  "nbformat_minor": 0,
  "metadata": {
    "colab": {
      "name": "8-optimization.ipynb",
      "provenance": [],
      "include_colab_link": true
    },
    "kernelspec": {
      "display_name": "Python 3",
      "language": "python",
      "name": "python3"
    },
    "language_info": {
      "codemirror_mode": {
        "name": "ipython",
        "version": 3
      },
      "file_extension": ".py",
      "mimetype": "text/x-python",
      "name": "python",
      "nbconvert_exporter": "python",
      "pygments_lexer": "ipython3",
      "version": "3.7.6"
    }
  },
  "cells": [
    {
      "cell_type": "markdown",
      "metadata": {
        "id": "view-in-github",
        "colab_type": "text"
      },
      "source": [
        "<a href=\"https://colab.research.google.com/github/manansethia/IOAI/blob/main/notebooks/8-optimization.ipynb\" target=\"_parent\"><img src=\"https://colab.research.google.com/assets/colab-badge.svg\" alt=\"Open In Colab\"/></a>"
      ]
    },
    {
      "cell_type": "markdown",
      "metadata": {
        "id": "aTOLgsbN69-P"
      },
      "source": [
        "# Optimization"
      ]
    },
    {
      "cell_type": "markdown",
      "metadata": {
        "id": "Sqs7yWgf_NQA"
      },
      "source": [
        "This class, *Optimization*, is the eighth of eight classes in the *Machine Learning Foundations* series. It builds upon the material from each of the other classes in the series -- on linear algebra, calculus, probability, statistics, and algorithms -- in order to provide a detailed introduction to training machine learning models.\n",
        "\n",
        "Through the measured exposition of theory paired with interactive examples, you’ll develop a working understanding of all of the essential theory behind the ubiquitous gradient descent approach to optimization as well as how to apply it yourself — both at a granular, matrix operations level and a quick, abstract level — with TensorFlow and PyTorch. You’ll also learn about the latest optimizers, such as Adam and Nadam, that are widely-used for training deep neural networks.\n",
        "\n",
        "Over the course of studying this topic, you'll:\n",
        "\n",
        "* Discover how the statistical and machine learning approaches to optimization differ, and why you would select one or the other for a given problem you’re solving.\n",
        "* Understand exactly how the extremely versatile (stochastic) gradient descent optimization algorithm works, including how to apply it\n",
        "* Get acquainted with the “fancy” optimizers that are available for advanced machine learning approaches (e.g., deep learning) and when you should consider using them.\n",
        "\n",
        "Note that this Jupyter notebook is not intended to stand alone. It is the companion code to a lecture or to videos from Jon Krohn's [Machine Learning Foundations](https://github.com/jonkrohn/ML-foundations) series, which offer detail on the following:\n",
        "\n",
        "*Segment 1: The Machine Learning Approach to Optimization*\n",
        "\n",
        "* The Statistical Approach to Regression: Ordinary Least Squares\n",
        "* When Statistical Approaches to Optimization Break Down\n",
        "* The Machine Learning Solution\n",
        "\n",
        "*Segment 2: Gradient Descent*\n",
        "\n",
        "* Objective Functions\n",
        "* Cost / Loss / Error Functions\n",
        "* Minimizing Cost with Gradient Descent\n",
        "* Learning Rate\n",
        "* Critical Points, incl. Saddle Points\n",
        "* Gradient Descent from Scratch with PyTorch\n",
        "* The Global Minimum and Local Minima\n",
        "* Mini-Batches and Stochastic Gradient Descent (SGD)\n",
        "* Learning Rate Scheduling\n",
        "* Maximizing Reward with Gradient Ascent\n",
        "\n",
        "*Segment 3: Fancy Deep Learning Optimizers*\n",
        "\n",
        "* A Layer of Artificial Neurons in PyTorch\n",
        "* Jacobian Matrices\n",
        "* Hessian Matrices and Second-Order Optimization\n",
        "* Momentum\n",
        "* Nesterov Momentum\n",
        "* AdaGrad\n",
        "* AdaDelta\n",
        "* RMSProp\n",
        "* Adam\n",
        "* Nadam\n",
        "* Training a Deep Neural Net\n",
        "* Resources for Further Study"
      ]
    },
    {
      "cell_type": "code",
      "metadata": {
        "id": "zBdzukZv5b1w"
      },
      "source": [
        "import numpy as np\n",
        "import matplotlib.pyplot as plt"
      ],
      "execution_count": null,
      "outputs": []
    },
    {
      "cell_type": "markdown",
      "metadata": {
        "id": "VSe5VI38a1Ns"
      },
      "source": [
        "## Segment 1: Optimization Approaches"
      ]
    },
    {
      "cell_type": "markdown",
      "metadata": {
        "id": "ay3FqULN5b11"
      },
      "source": [
        "Refer to the slides and the *Ordinary Least Squares* section of the [*Intro to Stats* notebook](https://github.com/jonkrohn/ML-foundations/blob/master/notebooks/6-statistics.ipynb)."
      ]
    },
    {
      "cell_type": "markdown",
      "metadata": {
        "id": "D2y1HvVD5b12"
      },
      "source": [
        "## Segment 2: Gradient Descent"
      ]
    },
    {
      "cell_type": "markdown",
      "metadata": {
        "id": "nD25jSYF5b12"
      },
      "source": [
        "### Cost Functions"
      ]
    },
    {
      "cell_type": "markdown",
      "metadata": {
        "id": "grAFt27_5b13"
      },
      "source": [
        "Fundamentally, for some instance $i$, we'd like to quantify the difference between the \"correct\" target model output $y_i$ and the model's predicted output $\\hat{y}_i$. A first idea might be to take the simple difference: $$\\Delta y_i = \\hat{y}_i - y_i$$"
      ]
    },
    {
      "cell_type": "markdown",
      "metadata": {
        "id": "vf0Qh1mk5b13"
      },
      "source": [
        "For computational efficiency (we'll explore this later in the segment), in ML we seldom consider the cost associated with a single instance $i$. Instead, we typically consider several instances simultaneously, in which case calculating the simple difference is largely  ineffective because positive and negative $\\Delta y_i$ values cancel out. E.g., consider a situation where:\n",
        "\n",
        "* $\\Delta y_1 = \\hat{y}_1 - y_1$ = 7 - 2 = 5\n",
        "* $\\Delta y_2 = \\hat{y}_2 - y_2$ = 3 - 8 = -5\n",
        "\n",
        "On an individual-instance basis, there are differences between the predicted and target outputs, indicating the model could be improved. Despite this, the total cost ($\\Sigma \\Delta y_i = \\Delta y_1 + \\Delta y_2 = 5-5$) is zero and therefore the mean cost ($\\frac{\\Sigma{\\Delta y_i}}{n} = \\frac{0}{2}$) is also zero, erroneously implying a perfect model fit."
      ]
    },
    {
      "cell_type": "markdown",
      "metadata": {
        "id": "3PIhblP-5b14"
      },
      "source": [
        "#### Mean Absolute Error"
      ]
    },
    {
      "cell_type": "markdown",
      "metadata": {
        "id": "ZmE1Zu255b14"
      },
      "source": [
        "A straightforward resolution to the simple-difference shortcoming is to take the absolute value of the difference. I.e., using the same contrived values as above:\n",
        "\n",
        "* $|\\Delta y_1| = |\\hat{y}_1 - y_1|$ = |7 - 2| = 5\n",
        "* $|\\Delta y_2| = |\\hat{y}_2 - y_2|$ = |3 - 8| = 5\n",
        "\n",
        "In this case:\n",
        "\n",
        "* The total error is ten: $\\Sigma |\\Delta y_i| = |\\Delta y_1| + |\\Delta y_2| = 5+5$\n",
        "* The **mean absolute error** (MAE) is five: $\\frac{\\Sigma{|\\Delta y_i}|}{n} = \\frac{10}{2}$"
      ]
    },
    {
      "cell_type": "markdown",
      "metadata": {
        "id": "PRngCTzq5b15"
      },
      "source": [
        "#### Mean Squared Error"
      ]
    },
    {
      "cell_type": "markdown",
      "metadata": {
        "id": "ICZZqWyP5b15"
      },
      "source": [
        "While MAE satisfactorily quantifies cost across multiple instances, for reasons we'll numerate in a moment, it is much more common in ML to use **mean *squared* error** (MSE).\n",
        "\n",
        "Let's use the contrived values again to show how MSE is calculated. As covered in [*Calculus II*](https://github.com/jonkrohn/ML-foundations/blob/master/notebooks/4-calculus-ii.ipynb), the individual-instance variant of MSE is *squared error* or *quadratic cost*, which -- as with absolute error -- dictates that the cost for each instance $i$ must be $\\geq 0$:\n",
        "\n",
        "* $(\\hat{y}_1 - y_1)^2 = (7 - 2)^2 = 5^2 = 25$\n",
        "* $(\\hat{y}_2 - y_2)^2 = (3 - 8)^2 = (-5)^2 = 25$\n",
        "\n",
        "As suggested by its name, MSE is the average: $$C = \\frac{1}{n} \\sum_{i=1}^n (\\hat{y_i}-y_i)^2 = \\frac{1}{2} (25 + 25) = \\frac{50}{2} = 25 $$\n",
        "\n",
        "Since cost for each instance $i$ must be $\\geq 0$, MSE (as with MAE) must therefore also be $\\geq 0$. In addition:\n",
        "\n",
        "1. The partial derivative of the MSE $C$ can be efficiently computed w.r.t. model parameters, providing a *gradient* of cost, $\\nabla C$ (the primary focus of [*Calculus II*](https://github.com/jonkrohn/ML-foundations/blob/master/notebooks/4-calculus-ii.ipynb) is deriving $\\nabla C$). Adjusting model parameters, we can *descend* $\\nabla C$ and thereby minimize $C$ (the mechanics of which are the primary focus of *Optimization*).\n",
        "2. Compared to MAE, MSE is relatively tolerant of small $\\Delta y_i$ and intolerant of large $\\Delta y_i$, a characteristic that tends to lead to better-fitting models."
      ]
    },
    {
      "cell_type": "code",
      "metadata": {
        "id": "WnLkt4505b15"
      },
      "source": [
        "delta_y = np.linspace(-5, 5, 1000)"
      ],
      "execution_count": 2,
      "outputs": []
    },
    {
      "cell_type": "code",
      "metadata": {
        "id": "eS8MQfFj5b18"
      },
      "source": [
        "abs_error = np.abs(delta_y)"
      ],
      "execution_count": 3,
      "outputs": []
    },
    {
      "cell_type": "code",
      "metadata": {
        "id": "2VEm2rY75b1-"
      },
      "source": [
        "sq_error = delta_y**2"
      ],
      "execution_count": 4,
      "outputs": []
    },
    {
      "cell_type": "code",
      "metadata": {
        "id": "iFDqR0Xr5b2B",
        "colab": {
          "base_uri": "https://localhost:8080/",
          "height": 449
        },
        "outputId": "28eae550-1767-4402-d2b5-82aac4e78ded"
      },
      "source": [
        "fig, ax = plt.subplots()\n",
        "\n",
        "plt.plot(delta_y, abs_error)\n",
        "plt.plot(delta_y, sq_error)\n",
        "ax.axhline(c='lightgray')\n",
        "\n",
        "plt.xlabel('Delta y')\n",
        "plt.ylabel('Error')\n",
        "\n",
        "ax.set_xlim(-4.2, 4.2)\n",
        "ax.set_ylim(-1, 17)\n",
        "_ = ax.legend(['Absolute', 'Squared'])"
      ],
      "execution_count": 5,
      "outputs": [
        {
          "output_type": "display_data",
          "data": {
            "text/plain": [
              "<Figure size 640x480 with 1 Axes>"
            ],
            "image/png": "[encoded data removed]"
          },
          "metadata": {}
        }
      ]
    },
    {
      "cell_type": "markdown",
      "metadata": {
        "id": "Z3fpl9k75b2E"
      },
      "source": [
        "There are other cost functions out there (e.g., [cross-entropy cost](https://github.com/the-deep-learners/deep-learning-illustrated/blob/master/notebooks/cross_entropy_cost.ipynb) is the typical choice for a deep learning classifier), but since MSE is the most common, including being the default option for regression models, it will be our focus for the remainder of *ML Foundations*."
      ]
    },
    {
      "cell_type": "markdown",
      "metadata": {
        "id": "K5EDHWnw5b2E"
      },
      "source": [
        "**Return to slides here.**"
      ]
    },
    {
      "cell_type": "markdown",
      "metadata": {
        "id": "ocedC8el5b2F"
      },
      "source": [
        "### Minimizing Cost with Gradient Descent"
      ]
    },
    {
      "cell_type": "markdown",
      "metadata": {
        "id": "CN3TlkVM5b2F"
      },
      "source": [
        "Refer to the slides and the [*Gradient Descent from Scratch* notebook](https://github.com/jonkrohn/ML-foundations/blob/master/notebooks/gradient-descent-from-scratch.ipynb)."
      ]
    },
    {
      "cell_type": "markdown",
      "metadata": {
        "id": "43iljMvZ5b2G"
      },
      "source": [
        "### Critical Points"
      ]
    },
    {
      "cell_type": "markdown",
      "metadata": {
        "id": "-RO6uoRh5b2G"
      },
      "source": [
        "#### Minimum"
      ]
    },
    {
      "cell_type": "code",
      "metadata": {
        "id": "52gWUjiW5b2H"
      },
      "source": [
        "x = np.linspace(-10, 10, 1000)"
      ],
      "execution_count": 6,
      "outputs": []
    },
    {
      "cell_type": "markdown",
      "metadata": {
        "id": "nqbOSBOc5b2J"
      },
      "source": [
        "If $y = x^2 + 3x + 4$..."
      ]
    },
    {
      "cell_type": "code",
      "metadata": {
        "id": "suJYqaq_5b2J"
      },
      "source": [
        "y_min = x**2 + 3*x + 4"
      ],
      "execution_count": 7,
      "outputs": []
    },
    {
      "cell_type": "markdown",
      "metadata": {
        "id": "Skkp7dSA5b2M"
      },
      "source": [
        "...then $y' = 2x + 3$.\n",
        "\n",
        "Critical point is located where $y' = 0$, so where $2x + 3 = 0$.\n",
        "\n",
        "Rearranging to solve for $x$:\n",
        "$$2x = -3$$\n",
        "$$x = \\frac{-3}{2} = -1.5$$\n",
        "\n",
        "At which point, $y = x^2 + 3x + 4 = (-1.5)^2 + 3(-1.5) + 4 = 1.75$\n",
        "\n",
        "Thus, the critical point is located at (-1.5, 1.75)."
      ]
    },
    {
      "cell_type": "code",
      "metadata": {
        "id": "cXq47qEq5b2M",
        "colab": {
          "base_uri": "https://localhost:8080/",
          "height": 430
        },
        "outputId": "6984d72b-dc98-4e87-ea63-4c38f53e1f7a"
      },
      "source": [
        "fig, ax = plt.subplots()\n",
        "\n",
        "plt.scatter(-1.5, 1.75, c='orange')\n",
        "plt.axhline(y=1.75, c='orange', linestyle='--')\n",
        "\n",
        "plt.axvline(x=0, c='lightgray')\n",
        "plt.axhline(y=0, c='lightgray')\n",
        "\n",
        "ax.set_xlim(-5, 2)\n",
        "ax.set_ylim(-1, 15)\n",
        "\n",
        "_ = ax.plot(x, y_min)"
      ],
      "execution_count": 8,
      "outputs": [
        {
          "output_type": "display_data",
          "data": {
            "text/plain": [
              "<Figure size 640x480 with 1 Axes>"
            ],
            "image/png": "[encoded data removed]"
          },
          "metadata": {}
        }
      ]
    },
    {
      "cell_type": "markdown",
      "metadata": {
        "id": "EWFvP3Tr5b2P"
      },
      "source": [
        "#### Maximum"
      ]
    },
    {
      "cell_type": "markdown",
      "metadata": {
        "id": "Bn6YmWLR5b2P"
      },
      "source": [
        "If $y = -x^2 + 3x + 4$..."
      ]
    },
    {
      "cell_type": "code",
      "metadata": {
        "id": "XA2KkY9x5b2Q"
      },
      "source": [
        "y_max = -x**2 + 3*x + 4"
      ],
      "execution_count": 9,
      "outputs": []
    },
    {
      "cell_type": "markdown",
      "metadata": {
        "id": "b8AUiYpt5b2S"
      },
      "source": [
        "...then $y' = -2x + 3$.\n",
        "\n",
        "Critical point is located where $y' = 0$, so where $-2x + 3 = 0$.\n",
        "\n",
        "Rearranging to solve for $x$:\n",
        "$$-2x = -3$$\n",
        "$$x = \\frac{-3}{-2} = 1.5$$\n",
        "\n",
        "At which point, $y = -x^2 + 3x + 4 = -(1.5)^2 + 3(1.5) + 4 = 6.25$\n",
        "\n",
        "Thus, the critical point is located at (1.5, 6.25)."
      ]
    },
    {
      "cell_type": "code",
      "metadata": {
        "id": "M0S-2dX_5b2S",
        "colab": {
          "base_uri": "https://localhost:8080/",
          "height": 435
        },
        "outputId": "df594504-24fd-407a-e9c2-da8e43e3674f"
      },
      "source": [
        "fig, ax = plt.subplots()\n",
        "\n",
        "plt.scatter(1.5, 6.25, c='orange')\n",
        "plt.axhline(y=6.25, c='orange', linestyle='--')\n",
        "\n",
        "plt.axvline(x=0, c='lightgray')\n",
        "plt.axhline(y=0, c='lightgray')\n",
        "\n",
        "ax.set_xlim(-2, 5)\n",
        "ax.set_ylim(-5, 10)\n",
        "\n",
        "_ = ax.plot(x, y_max)"
      ],
      "execution_count": 10,
      "outputs": [
        {
          "output_type": "display_data",
          "data": {
            "text/plain": [
              "<Figure size 640x480 with 1 Axes>"
            ],
            "image/png": "[encoded data removed]"
          },
          "metadata": {}
        }
      ]
    },
    {
      "cell_type": "markdown",
      "metadata": {
        "id": "isgDTQNi5b2V"
      },
      "source": [
        "#### Saddle point"
      ]
    },
    {
      "cell_type": "markdown",
      "metadata": {
        "id": "EID56T7T5b2V"
      },
      "source": [
        "If $y = x^3 + 6$..."
      ]
    },
    {
      "cell_type": "code",
      "metadata": {
        "id": "aoZghxgI5b2W"
      },
      "source": [
        "y_sp = x**3 + 6"
      ],
      "execution_count": 11,
      "outputs": []
    },
    {
      "cell_type": "markdown",
      "metadata": {
        "id": "NzU1HTKQ5b2Y"
      },
      "source": [
        "...then $y' = 3x^2$.\n",
        "\n",
        "Critical point is located where $y' = 0$, so where $3x^2 = 0$.\n",
        "\n",
        "Rearranging to solve for $x$:\n",
        "$$x^2 = \\frac{0}{3} = 0$$\n",
        "$$x = \\sqrt{0} = 0$$\n",
        "\n",
        "At which point, $y = x^3 + 6 = (0)^3 + 6 = 6$\n",
        "\n",
        "Thus, the critical point is located at (0, 6)."
      ]
    },
    {
      "cell_type": "code",
      "metadata": {
        "id": "7isUxig-5b2Y",
        "colab": {
          "base_uri": "https://localhost:8080/",
          "height": 435
        },
        "outputId": "1b51d207-eae7-4059-d62b-ed0584cc7d65"
      },
      "source": [
        "fig, ax = plt.subplots()\n",
        "\n",
        "plt.scatter(0, 6, c='orange')\n",
        "plt.axhline(y=6, c='orange', linestyle='--')\n",
        "\n",
        "plt.axvline(x=0, c='lightgray')\n",
        "plt.axhline(y=0, c='lightgray')\n",
        "\n",
        "ax.set_xlim(-2, 2)\n",
        "ax.set_ylim(-1, 10)\n",
        "\n",
        "_ = ax.plot(x, y_sp)"
      ],
      "execution_count": 12,
      "outputs": [
        {
          "output_type": "display_data",
          "data": {
            "text/plain": [
              "<Figure size 640x480 with 1 Axes>"
            ],
            "image/png": "[encoded data removed]"
          },
          "metadata": {}
        }
      ]
    },
    {
      "cell_type": "markdown",
      "metadata": {
        "id": "86XDUeDP5b2c"
      },
      "source": [
        "**Return to slides here.**"
      ]
    },
    {
      "cell_type": "markdown",
      "metadata": {
        "id": "GKUXnREM5b2c"
      },
      "source": [
        "### Stochastic Gradient Descent"
      ]
    },
    {
      "cell_type": "markdown",
      "metadata": {
        "id": "7clTIe1z5b2c"
      },
      "source": [
        "Refer to the slides and the [*SGD from Scratch* notebook](https://github.com/jonkrohn/ML-foundations/blob/master/notebooks/SGD-from-scratch.ipynb)."
      ]
    },
    {
      "cell_type": "markdown",
      "metadata": {
        "id": "gqdFAfzB5b2d"
      },
      "source": [
        "### Learning Rate Scheduling"
      ]
    },
    {
      "cell_type": "markdown",
      "metadata": {
        "id": "KHoYnNJ55b2d"
      },
      "source": [
        "Refer to the slides and the [*Learning Rate Scheduling* notebook](https://github.com/jonkrohn/ML-foundations/blob/master/notebooks/learning-rate-scheduling.ipynb)."
      ]
    },
    {
      "cell_type": "markdown",
      "metadata": {
        "id": "ob0c0k3d5b2e"
      },
      "source": [
        "## Segment 3: Fancy Deep Learning Optimizers"
      ]
    },
    {
      "cell_type": "markdown",
      "metadata": {
        "id": "LymJg7aQ5b2f"
      },
      "source": [
        "### Jacobian and Hessian Matrices"
      ]
    },
    {
      "cell_type": "markdown",
      "metadata": {
        "id": "ihbu7w5H5b2f"
      },
      "source": [
        "A *gradient* holds the partial derivatives of a function with vector input and scalar output. That is, $\\boldsymbol{f}: \\mathbb{R}^n \\rightarrow \\mathbb{R}$."
      ]
    },
    {
      "cell_type": "markdown",
      "metadata": {
        "id": "nvjLc4T_5b2g"
      },
      "source": [
        "A **Jacobian matrix** holds the partial derivatives of a function with vector input *and vector output*. That is, if $\\boldsymbol{f}: \\mathbb{R}^m \\rightarrow \\mathbb{R}^n$.\n",
        "\n",
        "E.g., in the [*Artificial Neurons* notebook](https://github.com/jonkrohn/ML-foundations/blob/master/notebooks/artificial-neurons.ipynb), $m = 784$ and $n = 128$. In this case:\n",
        "* The Jacobian matrix $\\boldsymbol{J}$ has 128 rows and 784 columns.\n",
        "* Each element of $\\boldsymbol{J}$ contains the partial derivative of a particular output element with respect to a particular input element: $J_{i,j} = \\frac{\\partial}{\\partial x_j} f(\\boldsymbol{x})_i$"
      ]
    },
    {
      "cell_type": "markdown",
      "metadata": {
        "id": "Q2GWdtGk5b2g"
      },
      "source": [
        "Note that a *generalized Jacobian* holds the partial derivatives of a function with an input tensor of any dimensionality and an output tensor of any dimensionality."
      ]
    },
    {
      "cell_type": "markdown",
      "metadata": {
        "id": "02BNYUTF5b2g"
      },
      "source": [
        "**Return to slides here.**"
      ]
    },
    {
      "cell_type": "markdown",
      "metadata": {
        "id": "4PPuIRHT5b2h"
      },
      "source": [
        "A **Hessian matrix** is the Jacobian matrix of the gradient. Its elements hold all of the possible second derivatives of some function $f(\\boldsymbol{x})$:\n",
        "$$ \\boldsymbol{H}(f)(\\boldsymbol{x})_{i,j} = \\frac{\\partial^2}{\\partial x_i \\partial x_j} f(\\boldsymbol{x}) $$"
      ]
    },
    {
      "cell_type": "markdown",
      "metadata": {
        "id": "lQM3Ons65b2h"
      },
      "source": [
        "Otherwise, refer to the slides and the following notebooks:\n",
        "\n",
        "* [*Artificial Neurons*](https://github.com/jonkrohn/ML-foundations/blob/master/notebooks/artificial-neurons.ipynb)\n",
        "* [*Deep Net in TensorFlow* (1.x)](https://github.com/the-deep-learners/TensorFlow-LiveLessons/blob/master/notebooks/deep_net_in_tensorflow.ipynb)\n",
        "* [*Deep Convolutional Net in TensorFlow* (1.x)](https://github.com/the-deep-learners/TensorFlow-LiveLessons/blob/master/notebooks/lenet_in_tensorflow.ipynb)\n",
        "* [*Deep Convolutional Net in TensorFlow* (2.x, with Keras)](https://github.com/jonkrohn/DLTFpT/blob/master/notebooks/lenet_in_tensorflow.ipynb)\n",
        "* [*Deep Net in PyTorch*](https://github.com/jonkrohn/DLTFpT/blob/master/notebooks/deep_net_in_pytorch.ipynb)"
      ]
    }
  ]
}